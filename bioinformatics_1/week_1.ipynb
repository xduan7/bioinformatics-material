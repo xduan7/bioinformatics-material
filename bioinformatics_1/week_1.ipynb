{
 "cells": [
  {
   "cell_type": "markdown",
   "metadata": {
    "collapsed": true,
    "pycharm": {
     "name": "#%% md\n"
    }
   },
   "source": [
    "##  Where in the Genome Does Replication Begin? (Part 1/2) \n"
   ]
  },
  {
   "cell_type": "markdown",
   "source": [
    "**nucleotides**:\n",
    "- adenine (A) and thymine (T) \n",
    "- cytosine (C) and guanine (G)\n",
    "\n",
    "\n",
    "**genome replication**: \n",
    "- carried out in the cell\n",
    "- cells must replicate its genome so children cells can inherit\n",
    "- **replication origin (ori)** is the genome region where replication begins\n",
    "- is carried out by molecular copy machines called **DNA polymerases**\n",
    "\n",
    "**DnaA**\n",
    "- a protein that binds to a short segment (known as a **DnaA box**) within ori  \n"
   ],
   "metadata": {
    "collapsed": false,
    "pycharm": {
     "name": "#%% md\n"
    }
   }
  },
  {
   "cell_type": "code",
   "execution_count": 1,
   "outputs": [
    {
     "name": "stdout",
     "text": [
      "30\n"
     ],
     "output_type": "stream"
    }
   ],
   "source": [
    "\"\"\"code challenge\"\"\"\n",
    "\n",
    "# PatternCount(Text, Pattern)\n",
    "#     count ← 0\n",
    "#     for i ← 0 to |Text| − |Pattern|\n",
    "#         if Text(i, |Pattern|) = Pattern\n",
    "#             count ← count + 1\n",
    "#     return count\n",
    "\n",
    "def pattern_count(\n",
    "        text: str,\n",
    "        pattern: str,\n",
    ") -> int:\n",
    "    count: int = 0\n",
    "    for i in range(len(text) - len(pattern)):\n",
    "        if text[i:].startswith(pattern):\n",
    "            count += 1\n",
    "    return count\n",
    "\n",
    "test_text: str = 'TACCCTTCGTACCCTTTATACCCTTTACCCTTCTACCCTTATAGCCTCGTGTACCCTTTACCCTTTGTACCCTTTACCCTTTCTACCCTTTGGATACCCTTACGTTCCAGTATGCTGCATACCCTTAATACCCTTATACCCTTGTCTACCCTTGTATTACCCTTGGTACCCTTTTACCCTTTACCTACCCTTCCCCTACCCTTAGACTACCCTTTACCCTTTTTACCCTTTATACCCTTTCTACCCTTTACCCTTTTACCCTTTTACCCTTCATACCCTTCTAGTTATTACCCTTTTACCCTTATTACCCTTTACCCTTTCCGATTACCCTTTACCCTTTACCCTTTCGACGTGGTTACCCTTTACCCTTGCGTCCCGTTACCCTTGAAGGAAATACCCTTTACCCTTTCTACCCTTTCGTACCCTTTGAATACCCTTTCTACCCTTAGTACCCTTATACCCTTATTCTACCCTTACCTACCCTTTGTTACCCTTTACCCTTTACCCTTAAACGACTACCCTTTACCCTTCAGCTACCCTTCTACCCTTCTACCCTTGGCTACCCTTTACCCTTTACCCTTGTACCCTTTGTACCCTTGCAACAGCGATTTACCCTTTTACCCTTAGCTGTACCCTTTACCCTTGTACCCTTTTACCCTTTTACCCTTCCGTACCCTTAGGGCCGGCGACCTTTACCCTTCGTTACCCTTTGTATTACCCTTTTACCCTTAAATACCCTTTACCCTTTACCCTTTACCCTTGCATACCCTTCCGGGGTGGTTTACCCTTTGTATACCCTTTACCCTTCTAGTCTCCGTTTACCCTTACCTCTACCCTTATACCCTTCAATCTGCTACCCTTTAGTGGGGCTACCCTTCGGTTACCCTTTTCCGGTTACCCTTTACCCTTTCATTAGCTATACCCTTCTTACCCTTTACCCTTTTACCCTTTACCCTTTACCCTTGTTACCCTTATGTTAATACCCTTGATGATACCCTTTACCCTTTACCCTTATACCCTT'\n",
    "test_pattern: str = 'TACCCTTTA'\n",
    "print(pattern_count(text=test_text, pattern=test_pattern))\n"
   ],
   "metadata": {
    "collapsed": false,
    "pycharm": {
     "name": "#%%\n",
     "is_executing": false
    }
   }
  },
  {
   "cell_type": "code",
   "execution_count": 4,
   "outputs": [
    {
     "name": "stdout",
     "text": [
      "('AGCCCTGAAACGGA', 'GCCCTGAAACGGAA', 'CCCTGAAACGGAAT')\n"
     ],
     "output_type": "stream"
    }
   ],
   "source": [
    "\"\"\"code challenge\"\"\"\n",
    "\n",
    "# FrequentWords(Text, k)\n",
    "#     FrequentPatterns ← an empty set\n",
    "#     for i ← 0 to |Text| − k\n",
    "#         Pattern ← the k-mer Text(i, k)\n",
    "#         Count(i) ← PatternCount(Text, Pattern)\n",
    "#     maxCount ← maximum value in array Count\n",
    "#     for i ← 0 to |Text| − k\n",
    "#         if Count(i) = maxCount\n",
    "#             add Text(i, k) to FrequentPatterns\n",
    "#     remove duplicates from FrequentPatterns\n",
    "#     return FrequentPatterns\n",
    "\n",
    "from typing import Tuple, Dict\n",
    "\n",
    "def frequent_words(\n",
    "        text: str,\n",
    "        k: int,\n",
    ") -> Tuple[str, ...]:\n",
    "    \n",
    "    # a better implementation compared to the given pseudo code\n",
    "    _kmer_dict: Dict[str, int] = {}\n",
    "    for i in range(len(text) - k + 1):\n",
    "        _kmer = text[i: i + k]\n",
    "        if _kmer in _kmer_dict:\n",
    "            _kmer_dict[_kmer] += 1\n",
    "        else:\n",
    "            _kmer_dict[_kmer] = 1\n",
    "    \n",
    "    _max_occur = max(_kmer_dict.values())\n",
    "    return tuple(k for k, v in _kmer_dict.items() if v == _max_occur)\n",
    "\n",
    "test_text: str = 'AGCCCTGAAACGGAATTCAAAGGGCGCGATACTGTCAAAGGGAACGGAATAACGGAATCGCGATACTGAGCCCTGACGCGATACTGAACGGAATAGCCCTGAAGCCCTGAAACGGAATAGCCCTGAAGCCCTGAAACGGAATTCAAAGGGTCAAAGGGCGCGATACTGGCAGCCAGTTCGCGATACTGAACGGAATGCAGCCAGTTAGCCCTGAAACGGAATCGCGATACTGTCAAAGGGGCAGCCAGTTTCAAAGGGCGCGATACTGAACGGAATAGCCCTGAAGCCCTGAAACGGAATAGCCCTGAGCAGCCAGTTGCAGCCAGTTTCAAAGGGAGCCCTGAAGCCCTGAGCAGCCAGTTAGCCCTGAGCAGCCAGTTCGCGATACTGCGCGATACTGGCAGCCAGTTGCAGCCAGTTTCAAAGGGTCAAAGGGCGCGATACTGAACGGAATAACGGAATAGCCCTGAAACGGAATGCAGCCAGTTCGCGATACTGGCAGCCAGTTTCAAAGGGCGCGATACTGAACGGAATCGCGATACTGAGCCCTGAAACGGAATAACGGAATTCAAAGGGCGCGATACTGAGCCCTGAAGCCCTGAAACGGAATTCAAAGGGAGCCCTGATCAAAGGGGCAGCCAGTTGCAGCCAGTTGCAGCCAGTTCGCGATACTGAGCCCTGACGCGATACTGCGCGATACTGGCAGCCAGTTAGCCCTGACGCGATACTGCGCGATACTGAACGGAATTCAAAGGGCGCGATACTGTCAAAGGGGCAGCCAGTTCGCGATACTGCGCGATACTGGCAGCCAGTTGCAGCCAGTTGCAGCCAGTTTCAAAGGGCGCGATACTGAACGGAATCGCGATACTGAACGGAATAACGGAATGCAGCCAGTTAGCCCTGAAGCCCTGAAACGGAATAGCCCTGA'\n",
    "test_k: int = 14\n",
    "print(frequent_words(text=test_text, k=test_k))"
   ],
   "metadata": {
    "collapsed": false,
    "pycharm": {
     "name": "#%% \n",
     "is_executing": false
    }
   }
  }
 ],
 "metadata": {
  "kernelspec": {
   "display_name": "Python 3",
   "language": "python",
   "name": "python3"
  },
  "language_info": {
   "codemirror_mode": {
    "name": "ipython",
    "version": 2
   },
   "file_extension": ".py",
   "mimetype": "text/x-python",
   "name": "python",
   "nbconvert_exporter": "python",
   "pygments_lexer": "ipython2",
   "version": "2.7.6"
  },
  "pycharm": {
   "stem_cell": {
    "cell_type": "raw",
    "source": [],
    "metadata": {
     "collapsed": false
    }
   }
  }
 },
 "nbformat": 4,
 "nbformat_minor": 0
}